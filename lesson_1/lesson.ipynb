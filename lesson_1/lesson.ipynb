{
 "cells": [
  {
   "cell_type": "code",
   "execution_count": 1,
   "outputs": [],
   "source": [],
   "metadata": {
    "collapsed": false,
    "pycharm": {
     "name": "#%%\n"
    }
   }
  },
  {
   "cell_type": "markdown",
   "metadata": {
    "collapsed": true,
    "pycharm": {
     "name": "#%% md\n"
    }
   },
   "source": [
    "## Практическое задание к лекции No2\n",
    "\n",
    "###  1.  Представьте в виде несократимой рациональной дроби:"
   ]
  },
  {
   "cell_type": "markdown",
   "source": [
    "### а) 0.(216);"
   ],
   "metadata": {
    "collapsed": false,
    "pycharm": {
     "name": "#%% md\n"
    }
   }
  },
  {
   "cell_type": "markdown",
   "metadata": {},
   "source": [
    "$$a = 0.(216)$$\n",
    "\n",
    "$$1000a = 216.(216)$$\n",
    "\n",
    "$$1000a = 216 + 0.(216)$$\n",
    "\n",
    "$$1000a = 216 + a$$\n",
    "\n",
    "$$999a = 216$$\n",
    "\n",
    "$$a = \\frac{216}{999} = \\frac{8}{37} $$\n",
    "\n",
    "$$0.(216) = \\frac{8}{37}$$"
   ]
  },
  {
   "cell_type": "markdown",
   "metadata": {},
   "source": [
    "### б) 1.0(01)."
   ]
  },
  {
   "cell_type": "markdown",
   "metadata": {
    "pycharm": {
     "name": "#%% md\n"
    }
   },
   "source": [
    "$$a = 1.0(01)$$\n",
    "\n",
    "$$1000a = 1001.0(01)$$\n",
    "\n",
    "$$1000a = 1000 + 1.0(01)$$\n",
    "\n",
    "$$1000a = 1000 + a$$\n",
    "\n",
    "$$999a = 1000$$\n",
    "\n",
    "$$a = \\frac{1000}{999}$$\n",
    "\n",
    "$$1.0(01) = \\frac{1000}{999}$$"
   ]
  },
  {
   "cell_type": "markdown",
   "source": [
    "### 2. Проверьте любым способом, являются ли данные логические формулы тавтологией:\n"
   ],
   "metadata": {
    "collapsed": false
   }
  },
  {
   "cell_type": "markdown",
   "source": [
    "$$ (A \\vee B) \\to (B \\vee \\overline{A}) $$"
   ],
   "metadata": {
    "collapsed": false
   }
  },
  {
   "cell_type": "markdown",
   "source": [
    "A             |     B        | $$ A \\vee B $$ | $$ \\overline{A} $$ | $$ B \\vee \\overline{A} $$ | $$ (A \\vee B) \\to (B \\vee \\overline{A}) $$\n",
    "------------- | -------------| -------------  | -------------      | -------------             | :-------------:\n",
    "0             | 0            | 0              | 1                  | 1                         | 1\n",
    "0             | 1            | 1              | 1                  | 1                         | 1\n",
    "1             | 0            | 1              | 0                  | 0                         | 0\n",
    "1             | 1            | 1              | 0                  | 1                         | 1"
   ],
   "metadata": {
    "collapsed": false
   }
  },
  {
   "cell_type": "markdown",
   "source": [
    "$$ A \\to (A \\vee(\\overline{B} \\wedge A)) $$\n",
    "\n",
    "$$ A \\to (\\overline{B} \\vee A) \\wedge (A \\vee A) $$"
   ],
   "metadata": {
    "collapsed": false
   }
  },
  {
   "cell_type": "markdown",
   "source": [
    "A             |     B        | $$ \\overline{B} $$ | $$ \\overline{B} \\vee A $$ | $$ A \\vee A $$ | $$ (\\overline{B} \\vee A) \\wedge (A \\vee A) $$ | $$ A \\to (\\overline{B} \\vee A) \\wedge (A \\vee A) $$\n",
    "------------- | -------------| -------------      | -------------             | -------------  | :-------------:                               | :-------------:\n",
    "0             | 0            | 1                  | 1                         | 0              | 0                                             | 1\n",
    "0             | 1            | 0                  | 0                         | 0              | 0                                             | 1\n",
    "1             | 0            | 1                  | 1                         | 1              | 1                                             | 1\n",
    "1             | 1            | 0                  | 1                         | 1              | 1                                             | 1"
   ],
   "metadata": {
    "collapsed": false
   }
  },
  {
   "cell_type": "markdown",
   "source": [
    "### 3. Сформулируйте словесно высказывания:\n",
    "\n",
    "где А: сегодня светит солнце; В: сегодня сыро; С: я поеду на дачу."
   ],
   "metadata": {
    "collapsed": false
   }
  },
  {
   "cell_type": "markdown",
   "source": [
    "$$ (\\overline{A} \\vee B) \\to \\overline{C} $$"
   ],
   "metadata": {
    "collapsed": false
   }
  },
  {
   "cell_type": "markdown",
   "source": [
    "**Если** сегодня **не** светит солнце **или** сегодня сыро **то** я **не** поеду на дачу"
   ],
   "metadata": {
    "collapsed": false
   }
  },
  {
   "cell_type": "markdown",
   "source": [
    "$$ C \\to (A \\vee \\overline{B}) $$\n"
   ],
   "metadata": {
    "collapsed": false
   }
  },
  {
   "cell_type": "markdown",
   "source": [
    "**Если** я поеду на дачу **то** сегодня светит солнце **или** сегодня **не** сыро"
   ],
   "metadata": {
    "collapsed": false
   }
  }
 ],
 "metadata": {
  "kernelspec": {
   "display_name": "Python 3 (ipykernel)",
   "language": "python",
   "name": "python3"
  },
  "language_info": {
   "codemirror_mode": {
    "name": "ipython",
    "version": 3
   },
   "file_extension": ".py",
   "mimetype": "text/x-python",
   "name": "python",
   "nbconvert_exporter": "python",
   "pygments_lexer": "ipython3",
   "version": "3.9.6"
  }
 },
 "nbformat": 4,
 "nbformat_minor": 1
}