{
 "cells": [
  {
   "cell_type": "code",
   "execution_count": null,
   "metadata": {
    "collapsed": true
   },
   "outputs": [],
   "source": []
  },
  {
   "cell_type": "markdown",
   "metadata": {
    "pycharm": {
     "name": "#%% md\n"
    }
   },
   "source": [
    "## Задания к уроку №3"
   ]
  },
  {
   "cell_type": "markdown",
   "metadata": {},
   "source": [
    "### 1. Пусть $${x_n} = n^{(−1)^n}.$$ Доказать, что последовательность {xn}: а) неограниченная; б) не является бесконечно большой."
   ]
  },
  {
   "cell_type": "markdown",
   "metadata": {},
   "source": [
    "$$\\{ n^{(−1)^n} \\} = 1,2,\\frac{1}{3},4,\\frac{1}{5},6,\\frac{1}{7} $$</br>\n",
    "a) $$ {x_n} > 0$$ Последовательность ограниченна только снизу </br>\n",
    "б) $$ |{x_n}|>M $$ не выполняется"
   ]
  },
  {
   "cell_type": "markdown",
   "metadata": {},
   "source": [
    "### 2. Доказать, что последовательность {sin n} расходится."
   ]
  },
  {
   "cell_type": "markdown",
   "metadata": {},
   "source": [
    "$$ \\lim_{x\\to \\infty} = sin(n) $$ <br/>\n",
    "$$ sin 1 \\neq 0 $$ это противоречит $$ sin^2n + cos^2n = 1 $$ следовательно {sin n} не может быть бесконечно малой"
   ]
  },
  {
   "cell_type": "markdown",
   "metadata": {},
   "source": [
    "### 3. Найти пределы:"
   ]
  },
  {
   "cell_type": "markdown",
   "metadata": {},
   "source": [
    "a) $$ \\lim_{x\\to \\infty} \\frac{10n}{n^2+1} = [\\frac{\\infty}{\\infty}] = $$\n",
    "   $$ \\frac{\\frac{10}{n}}{1 + \\frac{1}{n^2} } = 0 $$"
   ]
  },
  {
   "cell_type": "markdown",
   "metadata": {},
   "source": [
    "б) $$ \\lim_{x\\to \\infty} \\frac{n^2-n}{n-\\sqrt{n}} = $$\n",
    "$$ \\frac{1 - \\frac{1}{n} }{\\frac{1}{n} - \\frac{\\sqrt{n}}{n^2}} = \\infty $$"
   ]
  },
  {
   "cell_type": "markdown",
   "metadata": {},
   "source": [
    "в) $$ \\lim_{x\\to \\infty} \\frac{5*3n}{3n-2} = \\frac{15}{3 - \\frac{2}{n}} = \\frac{15}{3} = 5 $$"
   ]
  },
  {
   "cell_type": "markdown",
   "metadata": {},
   "source": [
    "### 4. Найти предел:\n",
    "$$ \\lim_{n \\to \\infty}(\\sqrt{n^2+n}-n) = \\frac{(\\sqrt{n^2 + n} - n)(\\sqrt{n^2 + n} + n)}{\\sqrt{n^2 + n} + n} = $$\n",
    "$$ \\frac{n^2 + n - n^2}{\\sqrt{n^2 + n} + n}  = \\frac{1}{\\frac{\\sqrt{n^2+n}+n}{n}} = \\infty $$"
   ]
  },
  {
   "cell_type": "markdown",
   "metadata": {},
   "source": [
    "### 5. Вычислить $$ \\lim_{n \\to \\infty} \\frac{\\sqrt{n}\\cos{n}}{n+1} $$\n"
   ]
  },
  {
   "cell_type": "markdown",
   "metadata": {},
   "source": [
    "$$ \\lim_{n \\to \\infty} \\frac{\\sqrt{n}\\cos{n}}{n+1} = \\frac{\\frac{\\sqrt{n}\\cos{n}}{n}}{1 + \\frac{n}{1}} = 0 $$\n"
   ]
  }
 ],
 "metadata": {
  "kernelspec": {
   "display_name": "Python 3 (ipykernel)",
   "language": "python",
   "name": "python3"
  },
  "language_info": {
   "codemirror_mode": {
    "name": "ipython",
    "version": 3
   },
   "file_extension": ".py",
   "mimetype": "text/x-python",
   "name": "python",
   "nbconvert_exporter": "python",
   "pygments_lexer": "ipython3",
   "version": "3.9.6"
  }
 },
 "nbformat": 4,
 "nbformat_minor": 1
}