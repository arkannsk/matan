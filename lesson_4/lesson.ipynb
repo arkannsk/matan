{
 "cells": [
  {
   "cell_type": "code",
   "execution_count": 2,
   "metadata": {
    "collapsed": true
   },
   "outputs": [
    {
     "data": {
      "text/plain": "<IPython.core.display.HTML object>",
      "text/html": "<style>\n  body {text-align: left !important;}\n</style>\n\n\n"
     },
     "metadata": {},
     "output_type": "display_data"
    }
   ],
   "source": []
  },
  {
   "cell_type": "markdown",
   "metadata": {},
   "source": [
    "## Задания к уроку No4\n"
   ]
  },
  {
   "cell_type": "markdown",
   "metadata": {},
   "source": [
    "### 1. Найти области определения функций:\n",
    "а) $$f(x) = ln(x + 2)$$"
   ]
  },
  {
   "cell_type": "markdown",
   "metadata": {},
   "source": [
    "$$ D(f) = (-2;\\infty) $$"
   ]
  },
  {
   "cell_type": "markdown",
   "metadata": {},
   "source": [
    "### 2. Найти множества значений функций:\n",
    "\n",
    "а) $$f(x) = 2^{x^2}$$"
   ]
  },
  {
   "cell_type": "markdown",
   "metadata": {},
   "source": [
    "$$ E(f) = [1; \\infty) $$"
   ]
  },
  {
   "cell_type": "markdown",
   "metadata": {},
   "source": [
    "б) $$ f(x) = 3 − 5 \\cos{x} $$"
   ]
  },
  {
   "cell_type": "markdown",
   "metadata": {},
   "source": [
    "$$ -1 \\leq \\cos{x} \\leq 1 $$ </br>\n",
    "$$ -5 \\leq -5\\cos{x} \\leq 5 $$ </br>\n",
    "$$  -2 \\leq 3-5\\cos{x} \\leq 8 $$ </br>\n",
    "$$ E(f) = [-2; 8] $$"
   ]
  },
  {
   "cell_type": "markdown",
   "metadata": {},
   "source": [
    "### 4. Найти обратную функцию:\n",
    "а) $$y = x − 1$$\n"
   ]
  },
  {
   "cell_type": "markdown",
   "metadata": {},
   "source": [
    "$$ x = y - 1 $$ </br>\n",
    "$$ f^{-1}(x) = x + 1 $$"
   ]
  },
  {
   "cell_type": "markdown",
   "metadata": {},
   "source": [
    "$$ б)\\space y = \\sqrt{x} $$"
   ]
  },
  {
   "cell_type": "markdown",
   "metadata": {},
   "source": [
    "$$ x = y^2 $$ <br>\n",
    "$$ f^{-1}(x) = x^2 $$"
   ]
  },
  {
   "cell_type": "markdown",
   "metadata": {},
   "source": [
    "### 5. Найти пределы:\n",
    " 1. $$ \\lim_{x \\to -2}\\space(5x^2 + 2x - 1) $$"
   ]
  },
  {
   "cell_type": "markdown",
   "metadata": {},
   "source": [
    "$$ 5(\\lim_{x \\to -2}x)^2 + 2 \\lim_{x \\to -2}x - \\lim_{x \\to -2}1 $$ </br>\n",
    "$$ 20 + -4 - 1 = 15 $$\n"
   ]
  },
  {
   "cell_type": "markdown",
   "metadata": {},
   "source": [
    " 2. $$ \\lim_{x \\to 0}\\space\\frac{x}{x^2-x} $$"
   ]
  },
  {
   "cell_type": "markdown",
   "metadata": {},
   "source": [
    "$$ \\lim_{x \\to 0}\\frac{\\frac{x}{x}}{\\frac{x^2-x}{x}} = \\lim_{x \\to 0}\\frac{1}{x - 1} = -1 $$"
   ]
  },
  {
   "cell_type": "markdown",
   "metadata": {},
   "source": [
    "3. $$ \\lim_{x \\to 5}\\frac{x^2-6x+5}{x^2-25} $$\n"
   ]
  },
  {
   "cell_type": "markdown",
   "metadata": {},
   "source": [
    " $$\\lim_{x \\to 5}\\frac{x^2-6x+5}{(x-5)(x+5)} $$ </br>\n",
    " $$ x^2-6x+5 $$ </br>\n",
    " $$ D = 16 \\space  {x_1} = 5; {x_2} = 1    $$ </br>\n",
    " $$ \\lim_{x \\to 5}\\frac{(x-5)(x-1)}{(x-5)(x+5)} = \\lim_{x \\to 5}\\frac{x-1}{x+5} = \\frac{2}{5} $$"
   ]
  },
  {
   "cell_type": "markdown",
   "metadata": {},
   "source": [
    "4. $$ \\lim_{x \\to -1}\\frac{x^3+x+2}{x^3+1} $$"
   ]
  },
  {
   "cell_type": "markdown",
   "metadata": {},
   "source": [
    "$$ \\lim_{x \\to -1} = \\frac{(x+1)(x^2-x+2)}{(x+1)(x^2-x+1)} = \\frac{4}{3}$$\n"
   ]
  },
  {
   "cell_type": "markdown",
   "metadata": {},
   "source": [
    "5. $$ \\lim_{x \\to 3}\\frac{\\sqrt{2x+3}-3}{\\sqrt{x-2}-1} $$\n"
   ]
  },
  {
   "cell_type": "markdown",
   "metadata": {},
   "source": [
    "$$ \\lim_{x \\to 3}\\frac{(\\sqrt{2x+3}-3)(\\sqrt{2x+3}+3)}{(\\sqrt{x-2}-1)(\\sqrt{2x+3}+3)} = $$\n",
    "$$ \\lim_{x \\to 3}\\frac{2(x-3)}{(\\sqrt{x-2}-1)(\\sqrt{2x+3}+3)} = $$\n",
    "$$ \\lim_{x \\to 3}\\frac{2(x-3)(\\sqrt{x-2}+1)}{(x-3)(\\sqrt{2x+3}+3)} = \\frac{2}{3} $$\n"
   ]
  },
  {
   "cell_type": "markdown",
   "metadata": {},
   "source": [
    "6. $$ \\lim_{x \\to \\infty}(\\sqrt{x^2+4}-x)$$\n"
   ]
  },
  {
   "cell_type": "markdown",
   "source": [
    "$$ \\lim_{x \\to \\infty}\\frac{(\\sqrt{x^2+4}-x)(\\sqrt{x^2+4}+x)}{\\sqrt{x^2+4}+x} = $$\n",
    "$$ \\lim_{x \\to \\infty} \\frac{x^2 + 4 - x^2}{\\sqrt{x^2+4}+x} = 0 $$\n"
   ],
   "metadata": {
    "collapsed": false,
    "pycharm": {
     "name": "#%% md\n"
    }
   }
  },
  {
   "cell_type": "markdown",
   "source": [
    "7. $$ \\lim_{x \\to 0}\\frac{1-\\cos{x}}{x^2}  $$"
   ],
   "metadata": {
    "collapsed": false
   }
  },
  {
   "cell_type": "markdown",
   "source": [
    "$$ \\lim_{x \\to 0}\\frac{1-\\cos{(2\\frac{x}{2})}}{x^2} = $$\n",
    "$$ \\lim_{x \\to 0}\\frac{2 \\sin^2{\\frac{x}{2}}}{x^2} = $$\n",
    "$$ \\lim_{x \\to 0}\\frac{2 \\sin^2{\\frac{x}{2}}}{\\frac{4(x^2)}{4}} = $$\n",
    "$$ \\lim_{x \\to 0}\\frac{\\sin^2{\\frac{x}{2}}}{2(\\frac{x}{2})^2} = $$\n",
    "$$ \\frac{1}{2}\\lim_{x \\to 0}\\frac{\\sin^2{\\frac{x}{2}}}{(\\frac{x}{2})^2} = $$\n",
    "$$ \\frac{1}{2}\\lim_{x \\to 0}\\Biggl(\\frac{\\sin{\\frac{x}{2}}}{\\frac{x}{2}}\\Biggr)^2  $$ </br>\n",
    "$$ \\bigg|\\space t = \\frac{x}{2} \\quad t \\rightarrow 0 \\space \\bigg|$$ <br>\n",
    "$$ \\frac{1}{2}\\lim_{x \\to 0}\\Biggl(\\frac{\\sin{t}}{t}\\Biggr)^2 = \\frac{1}{2} * 1^2 = \\frac{1}{2} $$"
   ],
   "metadata": {
    "collapsed": false
   }
  },
  {
   "cell_type": "markdown",
   "source": [
    "8. $$ \\lim_{x \\to 0}x*\\cot{x} $$"
   ],
   "metadata": {
    "collapsed": false
   }
  },
  {
   "cell_type": "markdown",
   "source": [
    "$$ \\lim_{x \\to 0}x*\\frac{\\cos{x}}{\\sin{x}} = 1 * \\frac{1}{\\frac{\\sin{x}}{x}} = 1 $$\n"
   ],
   "metadata": {
    "collapsed": false,
    "pycharm": {
     "name": "#%% md\n"
    }
   }
  },
  {
   "cell_type": "markdown",
   "source": [
    "9. $$ \\lim_{x \\to 0} \\frac{\\cos{5x}-\\cos{3x}}{x^2} $$\n"
   ],
   "metadata": {
    "collapsed": false
   }
  },
  {
   "cell_type": "markdown",
   "source": [
    "$$  \\lim_{x \\to 0} \\frac{2\\sin{\\frac{5x+3x}{2}*\\sin{\\frac{3x-5x}{2}}}}{x^2} =  $$\n",
    "$$  2\\lim_{x \\to 0} \\frac{sin{4x}}{x} * -(\\frac{sin{x}}{x}) = $$\n",
    "$$  2 * 4\\lim_{x \\to 0} \\frac{\\sin{4x}}{4x} * (-1) $$ <br>\n",
    "$$ \\bigg|\\space t = 4x \\quad t \\rightarrow 0 \\space \\bigg|$$ <br>\n",
    "$$  8\\lim_{x \\to 0} \\frac{\\sin{t}}{t} * (-1) = -8 $$"
   ],
   "metadata": {
    "collapsed": false
   }
  },
  {
   "cell_type": "markdown",
   "source": [
    "10. $$ \\lim_{x \\to 0}\\sqrt[2x]{1+3x} $$"
   ],
   "metadata": {
    "collapsed": false
   }
  },
  {
   "cell_type": "markdown",
   "source": [
    "$$ \\lim_{x \\to 0} (1 + 3x)^{\\frac{1}{2x * \\frac{3}{2}}*\\frac{3}{2}} = e^{\\frac{3}{2}} $$"
   ],
   "metadata": {
    "collapsed": false
   }
  },
  {
   "cell_type": "markdown",
   "source": [
    "11. $$ \\lim_{x \\to 0} (\\frac{3+5x}{3+2x})^{\\frac{1}{x}} $$"
   ],
   "metadata": {
    "collapsed": false
   }
  },
  {
   "cell_type": "markdown",
   "source": [
    "$$  \\lim_{x \\to 0} (\\frac{1+\\frac{5x}{3}}{1+\\frac{2x}{3}})^{\\frac{1}{x}}  $$ </br>\n",
    "$$  \\lim_{x \\to 0} (1 + \\frac{5x}{3})^{\\frac{5x}{3}* \\frac{1}{x}} = $$\n",
    "$$ \\lim_{x \\to 0} (1 + \\frac{5x}{3})^{\\frac{5}{3}} $$ </br>\n",
    "$$  \\lim_{x \\to 0} (1 + \\frac{2x}{3})^{\\frac{2x}{3}* \\frac{1}{x}} = $$\n",
    "$$ \\lim_{x \\to 0} (1 + \\frac{2x}{3})^{\\frac{2}{3}} $$ </br>\n",
    "$$ \\frac{e^{\\frac{5}{3}}}{e^{\\frac{2}{3}}} = e $$"
   ],
   "metadata": {
    "collapsed": false
   }
  },
  {
   "cell_type": "code",
   "execution_count": null,
   "outputs": [],
   "source": [],
   "metadata": {
    "collapsed": false,
    "pycharm": {
     "name": "#%%\n"
    }
   }
  }
 ],
 "metadata": {
  "kernelspec": {
   "display_name": "Python 3 (ipykernel)",
   "language": "python",
   "name": "python3"
  },
  "language_info": {
   "codemirror_mode": {
    "name": "ipython",
    "version": 3
   },
   "file_extension": ".py",
   "mimetype": "text/x-python",
   "name": "python",
   "nbconvert_exporter": "python",
   "pygments_lexer": "ipython3",
   "version": "3.9.6"
  }
 },
 "nbformat": 4,
 "nbformat_minor": 1
}